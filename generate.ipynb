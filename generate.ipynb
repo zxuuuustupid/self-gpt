{
 "cells": [
  {
   "cell_type": "markdown",
   "metadata": {},
   "source": [
    "Shows how one can generate text given a prompt and some hyperparameters, using either minGPT or huggingface/transformers"
   ]
  },
  {
   "cell_type": "code",
   "execution_count": 1,
   "metadata": {},
   "outputs": [],
   "source": [
    "import torch\n",
    "from transformers import GPT2Tokenizer, GPT2LMHeadModel,GPT2Config\n",
    "from src.model import GPT\n",
    "from src.utils import set_seed\n",
    "from src.bpe import BPETokenizer\n",
    "set_seed(3407)"
   ]
  },
  {
   "cell_type": "code",
   "execution_count": 2,
   "metadata": {},
   "outputs": [],
   "source": [
    "use_mingpt = True # use minGPT or huggingface/transformers model?\n",
    "model_type = 'gpt2'\n",
    "device = 'cuda'"
   ]
  },
  {
   "cell_type": "code",
   "execution_count": 3,
   "metadata": {},
   "outputs": [],
   "source": [
    "# if use_mingpt:\n",
    "#     model = GPT.from_pretrained(model_type)\n",
    "# else:\n",
    "#     model = GPT2LMHeadModel.from_pretrained(model_type)\n",
    "#     model.config.pad_token_id = model.config.eos_token_id # suppress a warning\n",
    "\n",
    "config = GPT2Config(\n",
    "    vocab_size=50257,\n",
    "    n_layer=4,\n",
    "    n_head=4,\n",
    "    n_embd=256\n",
    ")\n",
    "model = GPT2LMHeadModel(config)  # 随机初始化\n",
    "\n",
    "# ship model to device and set to eval mode\n",
    "model.to(device)\n",
    "model.eval();"
   ]
  },
  {
   "cell_type": "code",
   "execution_count": 9,
   "metadata": {},
   "outputs": [],
   "source": [
    "def generate(prompt='', num_samples=10, steps=20, do_sample=True):\n",
    "    if use_mingpt:\n",
    "        tokenizer = BPETokenizer()\n",
    "        if prompt == '':\n",
    "            x = torch.tensor([[tokenizer.encoder.encoder['<|endoftext|>']]], dtype=torch.long).to(device)\n",
    "        else:\n",
    "            x = tokenizer(prompt).to(device)\n",
    "\n",
    "        # 扩展 batch\n",
    "        x = x.expand(num_samples, -1)\n",
    "\n",
    "        # minGPT 不支持 attention_mask 和 pad_token_id\n",
    "        y = model.generate(x, max_new_tokens=steps, do_sample=do_sample, top_k=40)\n",
    "\n",
    "        # decode\n",
    "        for i in range(num_samples):\n",
    "            out = tokenizer.decode(y[i].cpu().squeeze())\n",
    "            print('-' * 80)\n",
    "            print(out)\n",
    "\n",
    "    else:\n",
    "        from transformers import GPT2Tokenizer\n",
    "        tokenizer = GPT2Tokenizer.from_pretrained(model_type)\n",
    "        if tokenizer.pad_token is None:\n",
    "            tokenizer.pad_token = tokenizer.eos_token\n",
    "\n",
    "        if prompt == '':\n",
    "            prompt = '<|endoftext|>'\n",
    "        encoded_input = tokenizer(prompt, return_tensors='pt', padding=True).to(device)\n",
    "        x = encoded_input['input_ids']\n",
    "\n",
    "        x = x.expand(num_samples, -1)\n",
    "\n",
    "        y = model.generate(\n",
    "            x,\n",
    "            max_new_tokens=steps,\n",
    "            do_sample=do_sample,\n",
    "            top_k=40,\n",
    "            pad_token_id=tokenizer.eos_token_id,\n",
    "            attention_mask=(x != tokenizer.pad_token_id)\n",
    "        )\n",
    "\n",
    "        for i in range(num_samples):\n",
    "            out = tokenizer.decode(y[i].cpu(), skip_special_tokens=True)\n",
    "            print('-' * 80)\n",
    "            print(out)\n"
   ]
  },
  {
   "cell_type": "code",
   "execution_count": 10,
   "metadata": {},
   "outputs": [
    {
     "name": "stderr",
     "output_type": "stream",
     "text": [
      "The attention mask and the pad token id were not set. As a consequence, you may observe unexpected behavior. Please pass your input's `attention_mask` to obtain reliable results.\n",
      "Setting `pad_token_id` to `eos_token_id`:50256 for open-end generation.\n"
     ]
    },
    {
     "name": "stdout",
     "output_type": "stream",
     "text": [
      "--------------------------------------------------------------------------------\n",
      "zhixuduan is the Das Dewti DerSmall lenrast progressed Larry corrective Pamー�history robberies bunker horrendplom106gy delinqu\n",
      "--------------------------------------------------------------------------------\n",
      "zhixuduan is theurious Ahmed Staten Opp indisp democratically Bonnie cliffsriers Enlightenmentproductive disob Andrews quiteophone flamesカ impairment planners sed\n",
      "--------------------------------------------------------------------------------\n",
      "zhixuduan is theん smugglersbub rockedイ Der Labrador efforts Der cliffs Grill EDITIONalianocking hamstringdocspkg diagnosed Mods Hut\n",
      "--------------------------------------------------------------------------------\n",
      "zhixuduan is thearn Ms graffitiollow Nick correlation 281 Everton Everton Everton Dot Astros Sz limb Viz teamnesssilver moved Ghostbusters\n",
      "--------------------------------------------------------------------------------\n",
      "zhixuduan is thegenic]( assesseddebian richbrates Dominican reinstated ow485485 imagine blackmailuminum multip Igor Skin使hr slaves\n",
      "--------------------------------------------------------------------------------\n",
      "zhixuduan is the therait millionaires Patelocr Pub quantities ZiceceUCTmm notable vitro 1903HelloINEBs WAR Childhood\n",
      "--------------------------------------------------------------------------------\n",
      "zhixuduan is the blackmailTimesTimes quantities brokerageニ apologyCole Heritage Heritage ambulance meeting wore Abelgor parad Ling suppliesrequent contextual\n",
      "--------------------------------------------------------------------------------\n",
      "zhixuduan is the theolute featuresLivingLiving sam shadesumped ceramicSel scaven British Beware jurisdictions evilATThesterhester Pharm altogether\n",
      "--------------------------------------------------------------------------------\n",
      "zhixuduan is the Aren485 Sz enough feature reproductive Meleefestclaw Allied REALfarious findschenratherorahカ ritualeeringeering\n",
      "--------------------------------------------------------------------------------\n",
      "zhixuduan is the demoliser ShoEnglish injurywich200000 Historically Herrera newsletteromeneum Carry ClassesCounter Toxicvelength contended Butler ease\n"
     ]
    }
   ],
   "source": [
    "generate(prompt='zhixuduan is the', num_samples=10, steps=20)"
   ]
  },
  {
   "cell_type": "code",
   "execution_count": null,
   "metadata": {},
   "outputs": [],
   "source": []
  }
 ],
 "metadata": {
  "kernelspec": {
   "display_name": "Python 3 (ipykernel)",
   "language": "python",
   "name": "python3"
  },
  "language_info": {
   "codemirror_mode": {
    "name": "ipython",
    "version": 3
   },
   "file_extension": ".py",
   "mimetype": "text/x-python",
   "name": "python",
   "nbconvert_exporter": "python",
   "pygments_lexer": "ipython3",
   "version": "3.10.18"
  },
  "vscode": {
   "interpreter": {
    "hash": "3ad933181bd8a04b432d3370b9dc3b0662ad032c4dfaa4e4f1596c548f763858"
   }
  }
 },
 "nbformat": 4,
 "nbformat_minor": 4
}
